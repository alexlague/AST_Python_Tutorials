{
 "cells": [
  {
   "cell_type": "markdown",
   "metadata": {},
   "source": [
    "# Introductory Python for Astronomers"
   ]
  },
  {
   "cell_type": "markdown",
   "metadata": {},
   "source": [
    "In this tutorial we will take a dataset consisting of measurements of galaxy distances and velocities. We will then use Hubble's law to measure the Hubble constant and approximate the age of the Universe. Along the way, we will load, fit, and plot data using python packages. *This tutorial was adpated from the dark energy python lesson designed by Adam Dempsey (Northwestern University)*"
   ]
  },
  {
   "cell_type": "markdown",
   "metadata": {},
   "source": [
    "The first thing to do is to get our tools ready to go. In python, this means loading (or __importing__) the packages we need. If we use any kind of numerical manipulations, _numpy_ is essential. If we wish to visualize data _matplotlib_ is a popular library (_seaborn_ is also a valid option). For science and astonomy, _scipy_ and _astropy_ will be repeatedly used.\n",
    "\n",
    "We sometimes want to import a package under a different (often much shorter) name and we use the __as__ command to give it a alias. In other cases, we may wish to import only a part of a package in which case we can use the __from__ command. Note that the native python commands, i.e. the ones which are built into python are color-coded in green."
   ]
  },
  {
   "cell_type": "code",
   "execution_count": 7,
   "metadata": {},
   "outputs": [],
   "source": [
    "# Import packages\n",
    "\n",
    "import numpy as np\n",
    "import matplotlib.pyplot as plt\n",
    "from scipy.optimize import curve_fit\n",
    "import astropy.units as u\n",
    "# from astropy import units as u is equivalent here"
   ]
  },
  {
   "cell_type": "markdown",
   "metadata": {},
   "source": [
    "## Hubble's Law\n",
    "\n",
    "Hubble's law describes the relationship between the distance of a nearby galaxy and the velocity at which it is moving away from us. It can be summarized in the following equation:\n",
    "\n",
    "$$v = H_0 d, $$\n",
    "\n",
    "where $v$ is the velocity of a given galaxy, $d$ is its distance from us, and $H_0$ is known as the Hubble constant. The latter is often quoted in units of km/s/Mpc, and which as dimensions of inverse time. It turns out that (assuming an constant expansion rate throughout time), we can approximate the age of the Universe (denoted $t_0$) by taking its inverse and obtaining the Hubble time, $t_H$ given by\n",
    "\n",
    "$$t_0 \\approx t_H = \\frac{1}{H_0}.$$"
   ]
  },
  {
   "cell_type": "markdown",
   "metadata": {},
   "source": [
    "After importing the right packages, we fetch the dataset we will be using for our analysis. In this case, we will use the _loadtxt_ function which is great for .txt and .dat files. Note that _astropy_ is the library which allows users to load FITS files while the _csv_ package deals, as the name suggests, with .csv files."
   ]
  },
  {
   "cell_type": "code",
   "execution_count": 1,
   "metadata": {},
   "outputs": [],
   "source": [
    "# Load data from file\n",
    "\n",
    "\n",
    "# display the shape of the loaded array\n",
    "\n",
    "# Store each column data separately\n",
    "# to store row, use data[i] and to store column, use data[:,i]\n",
    "\n"
   ]
  },
  {
   "cell_type": "markdown",
   "metadata": {},
   "source": [
    "Right after loading data, it's often useful to make a quick plot to visualize the data we are dealing with and to identify any anomalies early. For this we will use the _plot_ function of _matplotlib_ which takes a minimum of 2 arguments for the x-axis data and y-axis data. Given the nature of our dataset, it's wiser to use the _scatter_ function to get an idea of the data (_plot_ is ideal for continuous functions as we'll see later)."
   ]
  },
  {
   "cell_type": "code",
   "execution_count": 2,
   "metadata": {},
   "outputs": [],
   "source": [
    "# Plot data\n",
    "\n"
   ]
  },
  {
   "cell_type": "code",
   "execution_count": 3,
   "metadata": {},
   "outputs": [],
   "source": [
    "# Histogram of data\n",
    "\n",
    "\n",
    "# the centers of each bins are halfway between the bin edges\n",
    "# use a FOR LOOP to assign the correct values to the bin center array\n",
    "\n",
    "\n",
    "\n",
    "\n",
    "# plt hist allows user to choose their bin_edges and centers\n",
    "# plt.hist also returns the number of elements per bins as its first (number 0) output\n",
    "\n"
   ]
  },
  {
   "cell_type": "markdown",
   "metadata": {},
   "source": [
    "Next, we need to set-up a model for the linear fit of Hubble's law. The __def__ command is what we need to define a new function in python. In brackets, we specify the inputs of the function and the outputs are taken to be what follow __return__. Note that the code inside the function is indented. This makes it easier to keep track of which lines of code are part of the function and which are part of the rest of the code. Speaking of making the code easier to understand, we will add a _docstring_ to our function to remind ourselves what our function does. Pressing shift+tab simultaneously allows us to view the docstring at any time, but we first need to define the function."
   ]
  },
  {
   "cell_type": "code",
   "execution_count": 12,
   "metadata": {},
   "outputs": [],
   "source": [
    "# Define model\n",
    "\n",
    "def Hubble(redshift_array, H0):\n",
    "    '''\n",
    "    Compute the recessional velocity of a galaxy given its\n",
    "    distance from us and the value of the Hubble constant.\n",
    "    Inputs: Array of galaxy distances, Hubble constant\n",
    "    Outputs: Array of galaxy recessional velocities\n",
    "    '''\n",
    "    \n",
    "    \n",
    "    return"
   ]
  },
  {
   "cell_type": "markdown",
   "metadata": {},
   "source": [
    "Having defined our model, it is time to fit the data! We will use the _curve_fit_ function to get the best-fit values for the parameters as well as a covariance matrix which will help us determine the error margin on $H_0$."
   ]
  },
  {
   "cell_type": "code",
   "execution_count": 8,
   "metadata": {},
   "outputs": [],
   "source": [
    "# Subselect the low-redshift samples where the Hubble law is valid\n"
   ]
  },
  {
   "cell_type": "code",
   "execution_count": 7,
   "metadata": {},
   "outputs": [],
   "source": [
    "# Fit linear relation to get Hubble parameter\n"
   ]
  },
  {
   "cell_type": "markdown",
   "metadata": {},
   "source": [
    "Having a value for the best fit parameters and a model, we can visualize the fit along with the data. To check our fit visually, it is useful to include error bars as part of the plot which is why we will use the _errorbar_ function for which we can specify the values of errors using the _yerr_ keyword argument."
   ]
  },
  {
   "cell_type": "code",
   "execution_count": 4,
   "metadata": {},
   "outputs": [],
   "source": [
    "# Plot data with errorbars and fit\n"
   ]
  },
  {
   "cell_type": "markdown",
   "metadata": {},
   "source": [
    "Combining the best-fit value and the covariance matrix obtained in the last step, we can quote the result with error bars and units (!!)."
   ]
  },
  {
   "cell_type": "code",
   "execution_count": 5,
   "metadata": {},
   "outputs": [],
   "source": [
    "# Quote final estimate of Hubble parameter with appropriate error margin\n",
    "\n",
    "#print('H_0 = ' + str(H0_estimate) +   ' \\pm ' + str(H0_error))"
   ]
  },
  {
   "cell_type": "markdown",
   "metadata": {},
   "source": [
    "As seen previously, we can approximate the age of the Universe by taking the inverse of the Hubble constant, but the result will only make sense once we change to the appropriate units. For this we can use _astropy.units_ for a one-line conversion."
   ]
  },
  {
   "cell_type": "code",
   "execution_count": 6,
   "metadata": {},
   "outputs": [],
   "source": [
    "# Approximate age of the Universe with the Hubble time\n",
    "# Change units!\n",
    "\n"
   ]
  }
 ],
 "metadata": {
  "kernelspec": {
   "display_name": "Python 3",
   "language": "python",
   "name": "python3"
  },
  "language_info": {
   "codemirror_mode": {
    "name": "ipython",
    "version": 3
   },
   "file_extension": ".py",
   "mimetype": "text/x-python",
   "name": "python",
   "nbconvert_exporter": "python",
   "pygments_lexer": "ipython3",
   "version": "3.8.10"
  }
 },
 "nbformat": 4,
 "nbformat_minor": 2
}
